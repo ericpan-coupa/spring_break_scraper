{
 "cells": [
  {
   "cell_type": "code",
   "execution_count": 22,
   "metadata": {},
   "outputs": [],
   "source": [
    "from selenium import webdriver \n",
    "from selenium.webdriver.common.by import By \n",
    "from selenium.webdriver.support.ui import WebDriverWait \n",
    "from selenium.webdriver.support import expected_conditions as EC \n",
    "from selenium.common.exceptions import TimeoutException"
   ]
  },
  {
   "cell_type": "code",
   "execution_count": 23,
   "metadata": {},
   "outputs": [],
   "source": [
    "option = webdriver.ChromeOptions()\n",
    "option.add_argument(\"-incognito\")"
   ]
  },
  {
   "cell_type": "code",
   "execution_count": 24,
   "metadata": {},
   "outputs": [
    {
     "name": "stderr",
     "output_type": "stream",
     "text": [
      "C:\\ProgramData\\Anaconda3\\lib\\site-packages\\ipykernel_launcher.py:1: DeprecationWarning: use options instead of chrome_options\n",
      "  \"\"\"Entry point for launching an IPython kernel.\n"
     ]
    },
    {
     "ename": "WebDriverException",
     "evalue": "Message: 'chromedriver' executable needs to be in PATH. Please see https://sites.google.com/a/chromium.org/chromedriver/home\n",
     "output_type": "error",
     "traceback": [
      "\u001b[1;31m---------------------------------------------------------------------------\u001b[0m",
      "\u001b[1;31mFileNotFoundError\u001b[0m                         Traceback (most recent call last)",
      "\u001b[1;32mC:\\ProgramData\\Anaconda3\\lib\\site-packages\\selenium\\webdriver\\common\\service.py\u001b[0m in \u001b[0;36mstart\u001b[1;34m(self)\u001b[0m\n\u001b[0;32m     75\u001b[0m                                             \u001b[0mstderr\u001b[0m\u001b[1;33m=\u001b[0m\u001b[0mself\u001b[0m\u001b[1;33m.\u001b[0m\u001b[0mlog_file\u001b[0m\u001b[1;33m,\u001b[0m\u001b[1;33m\u001b[0m\u001b[1;33m\u001b[0m\u001b[0m\n\u001b[1;32m---> 76\u001b[1;33m                                             stdin=PIPE)\n\u001b[0m\u001b[0;32m     77\u001b[0m         \u001b[1;32mexcept\u001b[0m \u001b[0mTypeError\u001b[0m\u001b[1;33m:\u001b[0m\u001b[1;33m\u001b[0m\u001b[1;33m\u001b[0m\u001b[0m\n",
      "\u001b[1;32mC:\\ProgramData\\Anaconda3\\lib\\subprocess.py\u001b[0m in \u001b[0;36m__init__\u001b[1;34m(self, args, bufsize, executable, stdin, stdout, stderr, preexec_fn, close_fds, shell, cwd, env, universal_newlines, startupinfo, creationflags, restore_signals, start_new_session, pass_fds, encoding, errors, text)\u001b[0m\n\u001b[0;32m    768\u001b[0m                                 \u001b[0merrread\u001b[0m\u001b[1;33m,\u001b[0m \u001b[0merrwrite\u001b[0m\u001b[1;33m,\u001b[0m\u001b[1;33m\u001b[0m\u001b[1;33m\u001b[0m\u001b[0m\n\u001b[1;32m--> 769\u001b[1;33m                                 restore_signals, start_new_session)\n\u001b[0m\u001b[0;32m    770\u001b[0m         \u001b[1;32mexcept\u001b[0m\u001b[1;33m:\u001b[0m\u001b[1;33m\u001b[0m\u001b[1;33m\u001b[0m\u001b[0m\n",
      "\u001b[1;32mC:\\ProgramData\\Anaconda3\\lib\\subprocess.py\u001b[0m in \u001b[0;36m_execute_child\u001b[1;34m(self, args, executable, preexec_fn, close_fds, pass_fds, cwd, env, startupinfo, creationflags, shell, p2cread, p2cwrite, c2pread, c2pwrite, errread, errwrite, unused_restore_signals, unused_start_new_session)\u001b[0m\n\u001b[0;32m   1171\u001b[0m                                          \u001b[0mos\u001b[0m\u001b[1;33m.\u001b[0m\u001b[0mfspath\u001b[0m\u001b[1;33m(\u001b[0m\u001b[0mcwd\u001b[0m\u001b[1;33m)\u001b[0m \u001b[1;32mif\u001b[0m \u001b[0mcwd\u001b[0m \u001b[1;32mis\u001b[0m \u001b[1;32mnot\u001b[0m \u001b[1;32mNone\u001b[0m \u001b[1;32melse\u001b[0m \u001b[1;32mNone\u001b[0m\u001b[1;33m,\u001b[0m\u001b[1;33m\u001b[0m\u001b[1;33m\u001b[0m\u001b[0m\n\u001b[1;32m-> 1172\u001b[1;33m                                          startupinfo)\n\u001b[0m\u001b[0;32m   1173\u001b[0m             \u001b[1;32mfinally\u001b[0m\u001b[1;33m:\u001b[0m\u001b[1;33m\u001b[0m\u001b[1;33m\u001b[0m\u001b[0m\n",
      "\u001b[1;31mFileNotFoundError\u001b[0m: [WinError 2] The system cannot find the file specified",
      "\nDuring handling of the above exception, another exception occurred:\n",
      "\u001b[1;31mWebDriverException\u001b[0m                        Traceback (most recent call last)",
      "\u001b[1;32m<ipython-input-24-774ca693d7cc>\u001b[0m in \u001b[0;36m<module>\u001b[1;34m\u001b[0m\n\u001b[1;32m----> 1\u001b[1;33m \u001b[0mbrowser\u001b[0m \u001b[1;33m=\u001b[0m \u001b[0mwebdriver\u001b[0m\u001b[1;33m.\u001b[0m\u001b[0mChrome\u001b[0m\u001b[1;33m(\u001b[0m\u001b[0mexecutable_path\u001b[0m\u001b[1;33m=\u001b[0m\u001b[1;34m\"./chromedriver\"\u001b[0m\u001b[1;33m,\u001b[0m \u001b[0mchrome_options\u001b[0m\u001b[1;33m=\u001b[0m\u001b[0moption\u001b[0m\u001b[1;33m)\u001b[0m\u001b[1;33m\u001b[0m\u001b[1;33m\u001b[0m\u001b[0m\n\u001b[0m",
      "\u001b[1;32mC:\\ProgramData\\Anaconda3\\lib\\site-packages\\selenium\\webdriver\\chrome\\webdriver.py\u001b[0m in \u001b[0;36m__init__\u001b[1;34m(self, executable_path, port, options, service_args, desired_capabilities, service_log_path, chrome_options, keep_alive)\u001b[0m\n\u001b[0;32m     71\u001b[0m             \u001b[0mservice_args\u001b[0m\u001b[1;33m=\u001b[0m\u001b[0mservice_args\u001b[0m\u001b[1;33m,\u001b[0m\u001b[1;33m\u001b[0m\u001b[1;33m\u001b[0m\u001b[0m\n\u001b[0;32m     72\u001b[0m             log_path=service_log_path)\n\u001b[1;32m---> 73\u001b[1;33m         \u001b[0mself\u001b[0m\u001b[1;33m.\u001b[0m\u001b[0mservice\u001b[0m\u001b[1;33m.\u001b[0m\u001b[0mstart\u001b[0m\u001b[1;33m(\u001b[0m\u001b[1;33m)\u001b[0m\u001b[1;33m\u001b[0m\u001b[1;33m\u001b[0m\u001b[0m\n\u001b[0m\u001b[0;32m     74\u001b[0m \u001b[1;33m\u001b[0m\u001b[0m\n\u001b[0;32m     75\u001b[0m         \u001b[1;32mtry\u001b[0m\u001b[1;33m:\u001b[0m\u001b[1;33m\u001b[0m\u001b[1;33m\u001b[0m\u001b[0m\n",
      "\u001b[1;32mC:\\ProgramData\\Anaconda3\\lib\\site-packages\\selenium\\webdriver\\common\\service.py\u001b[0m in \u001b[0;36mstart\u001b[1;34m(self)\u001b[0m\n\u001b[0;32m     81\u001b[0m                 raise WebDriverException(\n\u001b[0;32m     82\u001b[0m                     \"'%s' executable needs to be in PATH. %s\" % (\n\u001b[1;32m---> 83\u001b[1;33m                         os.path.basename(self.path), self.start_error_message)\n\u001b[0m\u001b[0;32m     84\u001b[0m                 )\n\u001b[0;32m     85\u001b[0m             \u001b[1;32melif\u001b[0m \u001b[0merr\u001b[0m\u001b[1;33m.\u001b[0m\u001b[0merrno\u001b[0m \u001b[1;33m==\u001b[0m \u001b[0merrno\u001b[0m\u001b[1;33m.\u001b[0m\u001b[0mEACCES\u001b[0m\u001b[1;33m:\u001b[0m\u001b[1;33m\u001b[0m\u001b[1;33m\u001b[0m\u001b[0m\n",
      "\u001b[1;31mWebDriverException\u001b[0m: Message: 'chromedriver' executable needs to be in PATH. Please see https://sites.google.com/a/chromium.org/chromedriver/home\n"
     ]
    }
   ],
   "source": [
    "browser = webdriver.Chrome(executable_path=\"./chromedriver\", chrome_options=option)"
   ]
  },
  {
   "cell_type": "code",
   "execution_count": 11,
   "metadata": {},
   "outputs": [],
   "source": [
    "browser.get(\"https://publicholidays.us/school-holidays/\")"
   ]
  },
  {
   "cell_type": "code",
   "execution_count": 17,
   "metadata": {},
   "outputs": [],
   "source": [
    "import selenium"
   ]
  },
  {
   "cell_type": "code",
   "execution_count": 18,
   "metadata": {},
   "outputs": [
    {
     "data": {
      "text/plain": [
       "'C:\\\\ProgramData\\\\Anaconda3\\\\lib\\\\site-packages\\\\selenium\\\\__init__.py'"
      ]
     },
     "execution_count": 18,
     "metadata": {},
     "output_type": "execute_result"
    }
   ],
   "source": [
    "selenium.__file__"
   ]
  },
  {
   "cell_type": "code",
   "execution_count": null,
   "metadata": {},
   "outputs": [],
   "source": [
    "browser.find_element_by_css_selector()"
   ]
  },
  {
   "cell_type": "code",
   "execution_count": 21,
   "metadata": {
    "collapsed": true
   },
   "outputs": [
    {
     "data": {
      "text/plain": [
       "[<selenium.webdriver.remote.webelement.WebElement (session=\"6df63d2316fd73ce043e6d1fa35f235b\", element=\"0.3037707758580317-114\")>,\n",
       " <selenium.webdriver.remote.webelement.WebElement (session=\"6df63d2316fd73ce043e6d1fa35f235b\", element=\"0.3037707758580317-115\")>,\n",
       " <selenium.webdriver.remote.webelement.WebElement (session=\"6df63d2316fd73ce043e6d1fa35f235b\", element=\"0.3037707758580317-116\")>,\n",
       " <selenium.webdriver.remote.webelement.WebElement (session=\"6df63d2316fd73ce043e6d1fa35f235b\", element=\"0.3037707758580317-117\")>,\n",
       " <selenium.webdriver.remote.webelement.WebElement (session=\"6df63d2316fd73ce043e6d1fa35f235b\", element=\"0.3037707758580317-118\")>,\n",
       " <selenium.webdriver.remote.webelement.WebElement (session=\"6df63d2316fd73ce043e6d1fa35f235b\", element=\"0.3037707758580317-119\")>,\n",
       " <selenium.webdriver.remote.webelement.WebElement (session=\"6df63d2316fd73ce043e6d1fa35f235b\", element=\"0.3037707758580317-120\")>,\n",
       " <selenium.webdriver.remote.webelement.WebElement (session=\"6df63d2316fd73ce043e6d1fa35f235b\", element=\"0.3037707758580317-121\")>,\n",
       " <selenium.webdriver.remote.webelement.WebElement (session=\"6df63d2316fd73ce043e6d1fa35f235b\", element=\"0.3037707758580317-122\")>,\n",
       " <selenium.webdriver.remote.webelement.WebElement (session=\"6df63d2316fd73ce043e6d1fa35f235b\", element=\"0.3037707758580317-123\")>,\n",
       " <selenium.webdriver.remote.webelement.WebElement (session=\"6df63d2316fd73ce043e6d1fa35f235b\", element=\"0.3037707758580317-124\")>,\n",
       " <selenium.webdriver.remote.webelement.WebElement (session=\"6df63d2316fd73ce043e6d1fa35f235b\", element=\"0.3037707758580317-125\")>,\n",
       " <selenium.webdriver.remote.webelement.WebElement (session=\"6df63d2316fd73ce043e6d1fa35f235b\", element=\"0.3037707758580317-126\")>,\n",
       " <selenium.webdriver.remote.webelement.WebElement (session=\"6df63d2316fd73ce043e6d1fa35f235b\", element=\"0.3037707758580317-127\")>,\n",
       " <selenium.webdriver.remote.webelement.WebElement (session=\"6df63d2316fd73ce043e6d1fa35f235b\", element=\"0.3037707758580317-128\")>,\n",
       " <selenium.webdriver.remote.webelement.WebElement (session=\"6df63d2316fd73ce043e6d1fa35f235b\", element=\"0.3037707758580317-129\")>,\n",
       " <selenium.webdriver.remote.webelement.WebElement (session=\"6df63d2316fd73ce043e6d1fa35f235b\", element=\"0.3037707758580317-130\")>,\n",
       " <selenium.webdriver.remote.webelement.WebElement (session=\"6df63d2316fd73ce043e6d1fa35f235b\", element=\"0.3037707758580317-131\")>,\n",
       " <selenium.webdriver.remote.webelement.WebElement (session=\"6df63d2316fd73ce043e6d1fa35f235b\", element=\"0.3037707758580317-132\")>,\n",
       " <selenium.webdriver.remote.webelement.WebElement (session=\"6df63d2316fd73ce043e6d1fa35f235b\", element=\"0.3037707758580317-133\")>,\n",
       " <selenium.webdriver.remote.webelement.WebElement (session=\"6df63d2316fd73ce043e6d1fa35f235b\", element=\"0.3037707758580317-134\")>,\n",
       " <selenium.webdriver.remote.webelement.WebElement (session=\"6df63d2316fd73ce043e6d1fa35f235b\", element=\"0.3037707758580317-135\")>,\n",
       " <selenium.webdriver.remote.webelement.WebElement (session=\"6df63d2316fd73ce043e6d1fa35f235b\", element=\"0.3037707758580317-136\")>,\n",
       " <selenium.webdriver.remote.webelement.WebElement (session=\"6df63d2316fd73ce043e6d1fa35f235b\", element=\"0.3037707758580317-137\")>,\n",
       " <selenium.webdriver.remote.webelement.WebElement (session=\"6df63d2316fd73ce043e6d1fa35f235b\", element=\"0.3037707758580317-138\")>,\n",
       " <selenium.webdriver.remote.webelement.WebElement (session=\"6df63d2316fd73ce043e6d1fa35f235b\", element=\"0.3037707758580317-139\")>,\n",
       " <selenium.webdriver.remote.webelement.WebElement (session=\"6df63d2316fd73ce043e6d1fa35f235b\", element=\"0.3037707758580317-140\")>,\n",
       " <selenium.webdriver.remote.webelement.WebElement (session=\"6df63d2316fd73ce043e6d1fa35f235b\", element=\"0.3037707758580317-141\")>]"
      ]
     },
     "execution_count": 21,
     "metadata": {},
     "output_type": "execute_result"
    }
   ],
   "source": [
    "browser.find_elements_by_xpath(\"//td[@class='column-1']\")"
   ]
  },
  {
   "cell_type": "code",
   "execution_count": null,
   "metadata": {},
   "outputs": [],
   "source": []
  }
 ],
 "metadata": {
  "kernelspec": {
   "display_name": "Python 3",
   "language": "python",
   "name": "python3"
  },
  "language_info": {
   "codemirror_mode": {
    "name": "ipython",
    "version": 3
   },
   "file_extension": ".py",
   "mimetype": "text/x-python",
   "name": "python",
   "nbconvert_exporter": "python",
   "pygments_lexer": "ipython3",
   "version": "3.7.1"
  }
 },
 "nbformat": 4,
 "nbformat_minor": 2
}
