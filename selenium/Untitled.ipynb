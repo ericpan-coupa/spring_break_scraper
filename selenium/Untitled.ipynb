{
 "cells": [
  {
   "cell_type": "code",
   "execution_count": 1,
   "metadata": {},
   "outputs": [],
   "source": [
    "from selenium import webdriver \n",
    "from selenium.webdriver.common.by import By \n",
    "from selenium.webdriver.support.ui import WebDriverWait \n",
    "from selenium.webdriver.support import expected_conditions as EC \n",
    "from selenium.common.exceptions import TimeoutException"
   ]
  },
  {
   "cell_type": "code",
   "execution_count": 2,
   "metadata": {},
   "outputs": [],
   "source": [
    "option = webdriver.ChromeOptions()\n",
    "option.add_argument(\"-incognito\")"
   ]
  },
  {
   "cell_type": "code",
   "execution_count": 3,
   "metadata": {},
   "outputs": [
    {
     "name": "stderr",
     "output_type": "stream",
     "text": [
      "C:\\ProgramData\\Anaconda3\\lib\\site-packages\\ipykernel_launcher.py:1: DeprecationWarning: use options instead of chrome_options\n",
      "  \"\"\"Entry point for launching an IPython kernel.\n"
     ]
    }
   ],
   "source": [
    "browser = webdriver.Chrome(executable_path=\"./chromedriver\", chrome_options=option)"
   ]
  },
  {
   "cell_type": "code",
   "execution_count": 4,
   "metadata": {},
   "outputs": [],
   "source": [
    "browser.get(\"https://publicholidays.us/school-holidays/\")"
   ]
  },
  {
   "cell_type": "code",
   "execution_count": 17,
   "metadata": {},
   "outputs": [],
   "source": [
    "import selenium"
   ]
  },
  {
   "cell_type": "code",
   "execution_count": 18,
   "metadata": {},
   "outputs": [
    {
     "data": {
      "text/plain": [
       "'C:\\\\ProgramData\\\\Anaconda3\\\\lib\\\\site-packages\\\\selenium\\\\__init__.py'"
      ]
     },
     "execution_count": 18,
     "metadata": {},
     "output_type": "execute_result"
    }
   ],
   "source": [
    "selenium.__file__"
   ]
  },
  {
   "cell_type": "code",
   "execution_count": null,
   "metadata": {},
   "outputs": [],
   "source": [
    "browser.find_element_by_css_selector()"
   ]
  },
  {
   "cell_type": "code",
   "execution_count": 21,
   "metadata": {
    "collapsed": true
   },
   "outputs": [
    {
     "data": {
      "text/plain": [
       "[<selenium.webdriver.remote.webelement.WebElement (session=\"6df63d2316fd73ce043e6d1fa35f235b\", element=\"0.3037707758580317-114\")>,\n",
       " <selenium.webdriver.remote.webelement.WebElement (session=\"6df63d2316fd73ce043e6d1fa35f235b\", element=\"0.3037707758580317-115\")>,\n",
       " <selenium.webdriver.remote.webelement.WebElement (session=\"6df63d2316fd73ce043e6d1fa35f235b\", element=\"0.3037707758580317-116\")>,\n",
       " <selenium.webdriver.remote.webelement.WebElement (session=\"6df63d2316fd73ce043e6d1fa35f235b\", element=\"0.3037707758580317-117\")>,\n",
       " <selenium.webdriver.remote.webelement.WebElement (session=\"6df63d2316fd73ce043e6d1fa35f235b\", element=\"0.3037707758580317-118\")>,\n",
       " <selenium.webdriver.remote.webelement.WebElement (session=\"6df63d2316fd73ce043e6d1fa35f235b\", element=\"0.3037707758580317-119\")>,\n",
       " <selenium.webdriver.remote.webelement.WebElement (session=\"6df63d2316fd73ce043e6d1fa35f235b\", element=\"0.3037707758580317-120\")>,\n",
       " <selenium.webdriver.remote.webelement.WebElement (session=\"6df63d2316fd73ce043e6d1fa35f235b\", element=\"0.3037707758580317-121\")>,\n",
       " <selenium.webdriver.remote.webelement.WebElement (session=\"6df63d2316fd73ce043e6d1fa35f235b\", element=\"0.3037707758580317-122\")>,\n",
       " <selenium.webdriver.remote.webelement.WebElement (session=\"6df63d2316fd73ce043e6d1fa35f235b\", element=\"0.3037707758580317-123\")>,\n",
       " <selenium.webdriver.remote.webelement.WebElement (session=\"6df63d2316fd73ce043e6d1fa35f235b\", element=\"0.3037707758580317-124\")>,\n",
       " <selenium.webdriver.remote.webelement.WebElement (session=\"6df63d2316fd73ce043e6d1fa35f235b\", element=\"0.3037707758580317-125\")>,\n",
       " <selenium.webdriver.remote.webelement.WebElement (session=\"6df63d2316fd73ce043e6d1fa35f235b\", element=\"0.3037707758580317-126\")>,\n",
       " <selenium.webdriver.remote.webelement.WebElement (session=\"6df63d2316fd73ce043e6d1fa35f235b\", element=\"0.3037707758580317-127\")>,\n",
       " <selenium.webdriver.remote.webelement.WebElement (session=\"6df63d2316fd73ce043e6d1fa35f235b\", element=\"0.3037707758580317-128\")>,\n",
       " <selenium.webdriver.remote.webelement.WebElement (session=\"6df63d2316fd73ce043e6d1fa35f235b\", element=\"0.3037707758580317-129\")>,\n",
       " <selenium.webdriver.remote.webelement.WebElement (session=\"6df63d2316fd73ce043e6d1fa35f235b\", element=\"0.3037707758580317-130\")>,\n",
       " <selenium.webdriver.remote.webelement.WebElement (session=\"6df63d2316fd73ce043e6d1fa35f235b\", element=\"0.3037707758580317-131\")>,\n",
       " <selenium.webdriver.remote.webelement.WebElement (session=\"6df63d2316fd73ce043e6d1fa35f235b\", element=\"0.3037707758580317-132\")>,\n",
       " <selenium.webdriver.remote.webelement.WebElement (session=\"6df63d2316fd73ce043e6d1fa35f235b\", element=\"0.3037707758580317-133\")>,\n",
       " <selenium.webdriver.remote.webelement.WebElement (session=\"6df63d2316fd73ce043e6d1fa35f235b\", element=\"0.3037707758580317-134\")>,\n",
       " <selenium.webdriver.remote.webelement.WebElement (session=\"6df63d2316fd73ce043e6d1fa35f235b\", element=\"0.3037707758580317-135\")>,\n",
       " <selenium.webdriver.remote.webelement.WebElement (session=\"6df63d2316fd73ce043e6d1fa35f235b\", element=\"0.3037707758580317-136\")>,\n",
       " <selenium.webdriver.remote.webelement.WebElement (session=\"6df63d2316fd73ce043e6d1fa35f235b\", element=\"0.3037707758580317-137\")>,\n",
       " <selenium.webdriver.remote.webelement.WebElement (session=\"6df63d2316fd73ce043e6d1fa35f235b\", element=\"0.3037707758580317-138\")>,\n",
       " <selenium.webdriver.remote.webelement.WebElement (session=\"6df63d2316fd73ce043e6d1fa35f235b\", element=\"0.3037707758580317-139\")>,\n",
       " <selenium.webdriver.remote.webelement.WebElement (session=\"6df63d2316fd73ce043e6d1fa35f235b\", element=\"0.3037707758580317-140\")>,\n",
       " <selenium.webdriver.remote.webelement.WebElement (session=\"6df63d2316fd73ce043e6d1fa35f235b\", element=\"0.3037707758580317-141\")>]"
      ]
     },
     "execution_count": 21,
     "metadata": {},
     "output_type": "execute_result"
    }
   ],
   "source": [
    "browser.find_elements_by_xpath(\"//td[@class='column-1']\")"
   ]
  },
  {
   "cell_type": "code",
   "execution_count": null,
   "metadata": {},
   "outputs": [],
   "source": []
  }
 ],
 "metadata": {
  "kernelspec": {
   "display_name": "Python 3",
   "language": "python",
   "name": "python3"
  },
  "language_info": {
   "codemirror_mode": {
    "name": "ipython",
    "version": 3
   },
   "file_extension": ".py",
   "mimetype": "text/x-python",
   "name": "python",
   "nbconvert_exporter": "python",
   "pygments_lexer": "ipython3",
   "version": "3.7.1"
  }
 },
 "nbformat": 4,
 "nbformat_minor": 2
}
